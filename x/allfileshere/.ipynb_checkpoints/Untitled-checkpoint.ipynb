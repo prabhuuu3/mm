{
 "cells": [
  {
   "cell_type": "code",
   "execution_count": 1,
   "id": "8b4e3c89",
   "metadata": {},
   "outputs": [
    {
     "ename": "FileNotFoundError",
     "evalue": "[WinError 3] The system cannot find the path specified: 'C:\\\\Users\\\\HP\\\\Desktop\\\\mm\\\\Garbage classification\\\\Garbage classification\\\\cardboard\\\\cardboard'",
     "output_type": "error",
     "traceback": [
      "\u001b[1;31m---------------------------------------------------------------------------\u001b[0m",
      "\u001b[1;31mFileNotFoundError\u001b[0m                         Traceback (most recent call last)",
      "Cell \u001b[1;32mIn[1], line 41\u001b[0m\n\u001b[0;32m     39\u001b[0m \u001b[38;5;66;03m# Apply the split for each category\u001b[39;00m\n\u001b[0;32m     40\u001b[0m \u001b[38;5;28;01mfor\u001b[39;00m category \u001b[38;5;129;01min\u001b[39;00m categories:\n\u001b[1;32m---> 41\u001b[0m     split_data(category, dataset_dir, train_dir, val_dir, test_dir)\n\u001b[0;32m     43\u001b[0m \u001b[38;5;28mprint\u001b[39m(\u001b[38;5;124m\"\u001b[39m\u001b[38;5;124mData split into train, validation, and test sets successfully.\u001b[39m\u001b[38;5;124m\"\u001b[39m)\n",
      "Cell \u001b[1;32mIn[1], line 25\u001b[0m, in \u001b[0;36msplit_data\u001b[1;34m(category, source_dir, train_dir, val_dir, test_dir)\u001b[0m\n\u001b[0;32m     23\u001b[0m \u001b[38;5;28;01mdef\u001b[39;00m \u001b[38;5;21msplit_data\u001b[39m(category, source_dir, train_dir, val_dir, test_dir):\n\u001b[0;32m     24\u001b[0m     \u001b[38;5;66;03m# Get list of all files in the category directory\u001b[39;00m\n\u001b[1;32m---> 25\u001b[0m     image_files \u001b[38;5;241m=\u001b[39m [f \u001b[38;5;28;01mfor\u001b[39;00m f \u001b[38;5;129;01min\u001b[39;00m os\u001b[38;5;241m.\u001b[39mlistdir(os\u001b[38;5;241m.\u001b[39mpath\u001b[38;5;241m.\u001b[39mjoin(source_dir, category)) \u001b[38;5;28;01mif\u001b[39;00m f\u001b[38;5;241m.\u001b[39mendswith(\u001b[38;5;124m'\u001b[39m\u001b[38;5;124m.jpg\u001b[39m\u001b[38;5;124m'\u001b[39m)]\n\u001b[0;32m     27\u001b[0m     \u001b[38;5;66;03m# Split into train (80%), temp (20%) -> then split temp into val (10%) and test (10%)\u001b[39;00m\n\u001b[0;32m     28\u001b[0m     train_files, temp_files \u001b[38;5;241m=\u001b[39m train_test_split(image_files, test_size\u001b[38;5;241m=\u001b[39m\u001b[38;5;241m0.2\u001b[39m, random_state\u001b[38;5;241m=\u001b[39m\u001b[38;5;241m42\u001b[39m)\n",
      "\u001b[1;31mFileNotFoundError\u001b[0m: [WinError 3] The system cannot find the path specified: 'C:\\\\Users\\\\HP\\\\Desktop\\\\mm\\\\Garbage classification\\\\Garbage classification\\\\cardboard\\\\cardboard'"
     ]
    }
   ],
   "source": [
    "import os\n",
    "import shutil\n",
    "from sklearn.model_selection import train_test_split\n",
    "\n",
    "# Path to your dataset (replace with actual dataset folder containing subfolders 'cardboard', 'glass', etc.)\n",
    "dataset_dir = r\"C:\\Users\\HP\\Desktop\\mm\\Garbage classification\\Garbage classification\\cardboard\"\n",
    "\n",
    "# List of categories\n",
    "categories = ['cardboard', 'glass', 'metal', 'paper', 'plastic', 'trash']\n",
    "\n",
    "# New destination folder for the split data\n",
    "base_dir = r\"C:\\Users\\HP\\Desktop\\mm\\Garbage classification\\allfileshere\"\n",
    "train_dir = os.path.join(base_dir, 'train')\n",
    "val_dir = os.path.join(base_dir, 'val')\n",
    "test_dir = os.path.join(base_dir, 'test')\n",
    "\n",
    "# Create directories if they don't exist\n",
    "for folder in [train_dir, val_dir, test_dir]:\n",
    "    for category in categories:\n",
    "        os.makedirs(os.path.join(folder, category), exist_ok=True)\n",
    "\n",
    "# Function to split data\n",
    "def split_data(category, source_dir, train_dir, val_dir, test_dir):\n",
    "    # Get list of all files in the category directory\n",
    "    image_files = [f for f in os.listdir(os.path.join(source_dir, category)) if f.endswith('.jpg')]\n",
    "\n",
    "    # Split into train (80%), temp (20%) -> then split temp into val (10%) and test (10%)\n",
    "    train_files, temp_files = train_test_split(image_files, test_size=0.2, random_state=42)\n",
    "    val_files, test_files = train_test_split(temp_files, test_size=0.5, random_state=42)\n",
    "\n",
    "    # Copy files to the respective directories\n",
    "    for file in train_files:\n",
    "        shutil.copy(os.path.join(source_dir, category, file), os.path.join(train_dir, category, file))\n",
    "    for file in val_files:\n",
    "        shutil.copy(os.path.join(source_dir, category, file), os.path.join(val_dir, category, file))\n",
    "    for file in test_files:\n",
    "        shutil.copy(os.path.join(source_dir, category, file), os.path.join(test_dir, category, file))\n",
    "\n",
    "# Apply the split for each category\n",
    "for category in categories:\n",
    "    split_data(category, dataset_dir, train_dir, val_dir, test_dir)\n",
    "\n",
    "print(\"Data split into train, validation, and test sets successfully.\")\n"
   ]
  },
  {
   "cell_type": "code",
   "execution_count": null,
   "id": "02d75e92",
   "metadata": {},
   "outputs": [],
   "source": []
  }
 ],
 "metadata": {
  "kernelspec": {
   "display_name": "Python 3 (ipykernel)",
   "language": "python",
   "name": "python3"
  },
  "language_info": {
   "codemirror_mode": {
    "name": "ipython",
    "version": 3
   },
   "file_extension": ".py",
   "mimetype": "text/x-python",
   "name": "python",
   "nbconvert_exporter": "python",
   "pygments_lexer": "ipython3",
   "version": "3.11.5"
  }
 },
 "nbformat": 4,
 "nbformat_minor": 5
}
